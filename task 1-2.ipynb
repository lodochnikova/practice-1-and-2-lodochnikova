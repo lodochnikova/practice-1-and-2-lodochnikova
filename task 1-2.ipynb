{
 "cells": [
  {
   "cell_type": "markdown",
   "id": "ee761a4d",
   "metadata": {},
   "source": [
    "## Tasks №1 and Tasks №2 \n",
    "\n",
    "Jupiter notebook is an interactive development environment with live code. It shows a visualization of the work. If a developer wants to look at a graph or formula, he writes the necessary command in the appropriate cell. This approach saves time and helps to avoid mistakes.\n",
    "\n",
    "\n"
   ]
  },
  {
   "cell_type": "markdown",
   "id": "e48306d5",
   "metadata": {},
   "source": [
    "## Useful features  \n",
    "\n",
    "Magic commands that work in ipython that can help you run and analyze data in jupyter notebook. They add special functionality that is not easy to achieve with Python code or the Jupyter notebook interface.\n",
    "\n",
    "All maigc commonds %lsmagic"
   ]
  },
  {
   "cell_type": "markdown",
   "id": "9bd76b2c",
   "metadata": {},
   "source": [
    "### Working with cells\n",
    "The code is executed inside the cells, sequentially based on the number to the left of the cell."
   ]
  },
  {
   "cell_type": "code",
   "execution_count": null,
   "id": "c5cec0a1",
   "metadata": {},
   "outputs": [],
   "source": [
    "\n",
    "a=1\n",
    "print('Output  а variable = ',a)"
   ]
  },
  {
   "cell_type": "code",
   "execution_count": null,
   "id": "536a28ff",
   "metadata": {},
   "outputs": [],
   "source": [
    "b=2\n",
    "print('Output b variable b = ',b)"
   ]
  },
  {
   "cell_type": "code",
   "execution_count": null,
   "id": "52629efb",
   "metadata": {},
   "outputs": [],
   "source": [
    "#We can output variables from previously started cells\n",
    "print(a,b)"
   ]
  },
  {
   "cell_type": "markdown",
   "id": "b5982dba",
   "metadata": {},
   "source": [
    "### Task №1\n",
    "There are dimensions width (a) and length of the room (b) and height of the walls (c), output the volume of the room in m3 with a floating point"
   ]
  },
  {
   "cell_type": "code",
   "execution_count": 4,
   "id": "08285930",
   "metadata": {},
   "outputs": [
    {
     "name": "stdout",
     "output_type": "stream",
     "text": [
      "36.0\n"
     ]
    }
   ],
   "source": [
    "a = 3\n",
    "b = 4\n",
    "c = 3\n",
    "\n",
    "#code here\n",
    "print(f'{a * b * c:.1f}')"
   ]
  },
  {
   "cell_type": "markdown",
   "id": "24622ae5",
   "metadata": {},
   "source": [
    "### Task №2\n",
    "There is a list of list_v values, output a list without duplicate values\n"
   ]
  },
  {
   "cell_type": "code",
   "execution_count": 7,
   "id": "0a0766ee",
   "metadata": {},
   "outputs": [
    {
     "name": "stdout",
     "output_type": "stream",
     "text": [
      "[0, 2, 3, 4, 5]\n"
     ]
    }
   ],
   "source": [
    "list_v = [2,2,3,4,5,0,0]\n",
    "\n",
    "#code here\n",
    "list_v = list(set(list_v))\n",
    "print(list_v)"
   ]
  },
  {
   "cell_type": "markdown",
   "id": "8ff28136",
   "metadata": {},
   "source": [
    "### 3"
   ]
  },
  {
   "cell_type": "code",
   "execution_count": 9,
   "id": "120304ae",
   "metadata": {},
   "outputs": [
    {
     "name": "stdout",
     "output_type": "stream",
     "text": [
      "50\n",
      "1.58\n",
      "20.028841531805796\n"
     ]
    }
   ],
   "source": [
    "# -*- coding: utf-8 -*-\n",
    "\"\"\"\n",
    "Write a program to calculate the body mass index (BMI) of a person. The user must enter their height and weight, after which you use one of the formulas below to determine the index.\n",
    "BMI = weight/height**2 \n",
    "\"\"\"\n",
    "weight = input()\n",
    "height = input()\n",
    "\n",
    "\n",
    "#code here\n",
    "print(float(weight) / float(height)**2)\n"
   ]
  },
  {
   "cell_type": "markdown",
   "id": "3389e69b",
   "metadata": {},
   "source": [
    "### 4"
   ]
  },
  {
   "cell_type": "code",
   "execution_count": 10,
   "id": "3034f7b6",
   "metadata": {},
   "outputs": [
    {
     "name": "stdout",
     "output_type": "stream",
     "text": [
      "Enter a 4-digit number: 3141\n",
      "9\n"
     ]
    }
   ],
   "source": [
    "# -*- coding: utf-8 -*-\n",
    "\"\"\"\n",
    "Develop a program that asks the user for an integer 4-digit number and calculates the sum of its constituent digits. For example, if the user enters the number 3141, the program should output the following result:\n",
    "3 + 1 + 4 + 1 = 9\n",
    "\n",
    "\"\"\"\n",
    "print(sum(map(int, list(input('Enter a 4-digit number: ')))))"
   ]
  },
  {
   "cell_type": "code",
   "execution_count": null,
   "id": "601407de",
   "metadata": {},
   "outputs": [],
   "source": []
  }
 ],
 "metadata": {
  "kernelspec": {
   "display_name": "Python 3 (ipykernel)",
   "language": "python",
   "name": "python3"
  },
  "language_info": {
   "codemirror_mode": {
    "name": "ipython",
    "version": 3
   },
   "file_extension": ".py",
   "mimetype": "text/x-python",
   "name": "python",
   "nbconvert_exporter": "python",
   "pygments_lexer": "ipython3",
   "version": "3.11.7"
  }
 },
 "nbformat": 4,
 "nbformat_minor": 5
}
